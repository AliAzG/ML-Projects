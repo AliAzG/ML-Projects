{
  "nbformat": 4,
  "nbformat_minor": 0,
  "metadata": {
    "colab": {
      "name": "simple_logistic_regression_using_tensorflow.ipynb",
      "version": "0.3.2",
      "provenance": [],
      "collapsed_sections": []
    },
    "kernelspec": {
      "name": "python3",
      "display_name": "Python 3"
    }
  },
  "cells": [
    {
      "metadata": {
        "id": "tk5qid_qjYHh",
        "colab_type": "code",
        "colab": {}
      },
      "cell_type": "code",
      "source": [
        "import tensorflow as tf\n",
        "import numpy as np"
      ],
      "execution_count": 0,
      "outputs": []
    },
    {
      "metadata": {
        "id": "gMMrbI1oj-FZ",
        "colab_type": "code",
        "colab": {}
      },
      "cell_type": "code",
      "source": [
        "x = tf.placeholder(tf.float32, shape=(None,2), name='features')\n",
        "y = tf.placeholder(tf.float32, shape=(None,1), name='targets')"
      ],
      "execution_count": 0,
      "outputs": []
    },
    {
      "metadata": {
        "id": "CQDjA__ylxC7",
        "colab_type": "code",
        "colab": {}
      },
      "cell_type": "code",
      "source": [
        "w = tf.Variable(tf.random_normal([2,1]), dtype=tf.float32, name=\"weight\")\n",
        "b = tf.Variable(tf.random_normal([1]), dtype=tf.float32, name=\"bias\")"
      ],
      "execution_count": 0,
      "outputs": []
    },
    {
      "metadata": {
        "id": "LP2NWNm7rlpc",
        "colab_type": "code",
        "colab": {}
      },
      "cell_type": "code",
      "source": [
        "def linear_layer(x, w, b):\n",
        "  n = tf.matmul(x,w) + b\n",
        "  return n\n",
        "\n",
        "init = tf.global_variables_initializer()"
      ],
      "execution_count": 0,
      "outputs": []
    },
    {
      "metadata": {
        "id": "TMFbWVtGsSz0",
        "colab_type": "code",
        "colab": {}
      },
      "cell_type": "code",
      "source": [
        "f = tf.sigmoid(linear_layer(x, w, b))"
      ],
      "execution_count": 0,
      "outputs": []
    },
    {
      "metadata": {
        "id": "eWlXxALLseSC",
        "colab_type": "code",
        "colab": {
          "base_uri": "https://localhost:8080/",
          "height": 34
        },
        "outputId": "eb949c5c-0543-4f64-d626-b7a5a244aae4"
      },
      "cell_type": "code",
      "source": [
        "f"
      ],
      "execution_count": 9,
      "outputs": [
        {
          "output_type": "execute_result",
          "data": {
            "text/plain": [
              "<tf.Tensor 'Sigmoid:0' shape=(?, 1) dtype=float32>"
            ]
          },
          "metadata": {
            "tags": []
          },
          "execution_count": 9
        }
      ]
    },
    {
      "metadata": {
        "id": "biS415llsgXn",
        "colab_type": "code",
        "colab": {}
      },
      "cell_type": "code",
      "source": [
        "l = 1\n",
        "with tf.name_scope(\"Cost_and_Optimizer\"):\n",
        "  cost = tf.reduce_mean(tf.nn.sigmoid_cross_entropy_with_logits(labels=y, logits=f,name=\"cost\"))\n",
        "  optimizer = tf.train.GradientDescentOptimizer(l)\n",
        "  train = optimizer.minimize(cost)"
      ],
      "execution_count": 0,
      "outputs": []
    },
    {
      "metadata": {
        "id": "Yj5FIlQ5vT-o",
        "colab_type": "code",
        "colab": {}
      },
      "cell_type": "code",
      "source": [
        "x_train = np.random.choice([0, 1], size=(100,2))\n",
        "y_train = np.random.choice([0, 1], size=(100,1))"
      ],
      "execution_count": 0,
      "outputs": []
    },
    {
      "metadata": {
        "id": "YvNTTWLhwVVh",
        "colab_type": "code",
        "colab": {
          "base_uri": "https://localhost:8080/",
          "height": 187
        },
        "outputId": "915890ec-9314-46ae-d18a-aca105035bb5"
      },
      "cell_type": "code",
      "source": [
        "epoch = 10000\n",
        "with tf.Session() as sess:\n",
        "  sess.run(init)\n",
        "  for i in range(epoch):\n",
        "    sess.run(train, feed_dict={x: x_train, y: y_train})\n",
        "    if i%1000 == 0:\n",
        "      partial_cost = sess.run(cost, {x: x_train, y: y_train})\n",
        "      outputs = sess.run(f, {x: x_train, y: y_train})\n",
        "      predictions = outputs > 0.5\n",
        "      \n",
        "      accuracy = np.sum(y_train == predictions) / y_train.shape[0]\n",
        "      \n",
        "      print(\"Epoch N°: {} - Cost = {} - Accuracy = {}%\".format(i, partial_cost, accuracy * 100))\n",
        "  final_w, final_b, final_cost = sess.run([w, b, cost], {x: x_train, y: y_train})"
      ],
      "execution_count": 52,
      "outputs": [
        {
          "output_type": "stream",
          "text": [
            "Epoch N°: 0 - Cost = 0.7411043047904968 - Accuracy = 55.00000000000001%\n",
            "Epoch N°: 1000 - Cost = 0.6822634935379028 - Accuracy = 52.0%\n",
            "Epoch N°: 2000 - Cost = 0.6794579029083252 - Accuracy = 62.0%\n",
            "Epoch N°: 3000 - Cost = 0.6786115765571594 - Accuracy = 62.0%\n",
            "Epoch N°: 4000 - Cost = 0.6782221794128418 - Accuracy = 62.0%\n",
            "Epoch N°: 5000 - Cost = 0.6780022382736206 - Accuracy = 62.0%\n",
            "Epoch N°: 6000 - Cost = 0.6778621077537537 - Accuracy = 62.0%\n",
            "Epoch N°: 7000 - Cost = 0.6777654886245728 - Accuracy = 62.0%\n",
            "Epoch N°: 8000 - Cost = 0.6776949167251587 - Accuracy = 62.0%\n",
            "Epoch N°: 9000 - Cost = 0.6776412725448608 - Accuracy = 62.0%\n"
          ],
          "name": "stdout"
        }
      ]
    },
    {
      "metadata": {
        "id": "d--AF-Pgy8qe",
        "colab_type": "code",
        "colab": {
          "base_uri": "https://localhost:8080/",
          "height": 68
        },
        "outputId": "e6a8998d-3ff4-4d62-f68e-3ed551cfded7"
      },
      "cell_type": "code",
      "source": [
        "print(\"Final function: Y = %s * X + %s\"%(final_w, final_b))\n",
        "print(\"Final cost: %s\"%final_cost)"
      ],
      "execution_count": 53,
      "outputs": [
        {
          "output_type": "stream",
          "text": [
            "Final function: Y = [[ 5.285431 ]\n",
            " [-6.2510176]] * X + [-4.740299]\n",
            "Final cost: 0.67759925\n"
          ],
          "name": "stdout"
        }
      ]
    }
  ]
}